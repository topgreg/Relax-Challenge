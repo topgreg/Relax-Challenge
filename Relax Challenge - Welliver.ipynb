{
 "cells": [
  {
   "cell_type": "markdown",
   "id": "a4102f31",
   "metadata": {},
   "source": [
    "# Relax Challenge\n",
    "\n",
    "Greg Welliver   "
   ]
  },
  {
   "cell_type": "code",
   "execution_count": 1,
   "id": "ba529c28",
   "metadata": {
    "scrolled": true
   },
   "outputs": [],
   "source": [
    "# Import relevant libraries and packages.\n",
    "import numpy as np \n",
    "import pandas as pd \n",
    "import matplotlib.pyplot as plt\n",
    "from matplotlib import rc\n",
    "import matplotlib.ticker as plticker\n",
    "import seaborn as sns\n",
    "sns.set()\n",
    "from sklearn.metrics import mean_squared_error, r2_score\n",
    "from sklearn.model_selection import train_test_split\n",
    "from sklearn import linear_model, preprocessing \n",
    "import warnings\n",
    "from scipy import stats\n",
    "import matplotlib as mpl\n",
    "import matplotlib.cm as cm\n",
    "from matplotlib.colors import ListedColormap\n",
    "import lightgbm as lgb\n",
    "from lightgbm import LGBMRegressor\n",
    "from numpy import mean\n",
    "from numpy import std\n",
    "from functools import partial\n",
    "%matplotlib inline\n",
    "from sklearn.linear_model import GammaRegressor\n",
    "from sklearn.linear_model import TweedieRegressor\n",
    "\n",
    "import statsmodels.api as sm\n",
    "from statsmodels.graphics.api import abline_plot\n",
    "from scipy import stats\n",
    "\n",
    "from sklearn.datasets import fetch_openml\n",
    "from sklearn import linear_model, preprocessing, tree, svm, datasets, metrics\n",
    "from sklearn.metrics import accuracy_score, classification_report, confusion_matrix, roc_curve, roc_auc_score, auc, mean_squared_error, mean_absolute_error, mean_absolute_percentage_error, r2_score, f1_score, log_loss\n",
    "from sklearn.metrics import ConfusionMatrixDisplay\n",
    "from sklearn.metrics import precision_recall_fscore_support as score\n",
    "from sklearn.metrics import classification_report\n",
    "from sklearn.metrics import confusion_matrix\n",
    "from sklearn.metrics import precision_recall_curve\n",
    "\n",
    "from sklearn.ensemble import RandomForestClassifier\n",
    "from sklearn.ensemble import RandomForestRegressor\n",
    "from sklearn.ensemble import GradientBoostingClassifier\n",
    "from sklearn.ensemble import VotingClassifier\n",
    "from sklearn.ensemble import ExtraTreesRegressor\n",
    "from sklearn.linear_model import LogisticRegression\n",
    "from sklearn.naive_bayes import GaussianNB\n",
    "from sklearn.tree import DecisionTreeClassifier\n",
    "from sklearn.tree import export_graphviz\n",
    "import xgboost\n",
    "from xgboost import XGBClassifier\n",
    "from xgboost import XGBRegressor\n",
    "import lightgbm as lgb\n",
    "from lightgbm import LGBMClassifier\n",
    "\n",
    "\n",
    "from sklearn.svm import SVC\n",
    "from sklearn.neighbors import KNeighborsClassifier\n",
    "from sklearn.preprocessing import OneHotEncoder as OHE\n",
    "import sklearn.model_selection\n",
    "from sklearn.model_selection import train_test_split\n",
    "from sklearn.model_selection import KFold\n",
    "from sklearn.model_selection import GridSearchCV, RandomizedSearchCV\n",
    "from sklearn.experimental import enable_iterative_imputer\n",
    "from sklearn.impute import IterativeImputer\n",
    "from sklearn.model_selection import cross_val_score\n",
    "from sklearn.model_selection import RepeatedKFold\n",
    "from sklearn.metrics import mean_tweedie_deviance, make_scorer\n",
    "\n",
    "\n",
    "import xgboost\n",
    "from xgboost import XGBClassifier\n",
    "from xgboost import XGBRegressor\n",
    "import warnings\n",
    "from subprocess import call\n",
    "from IPython.display import Image\n",
    "from datetime import datetime, timedelta, date\n",
    "import os\n",
    "import plotly.graph_objects as go\n",
    "import itertools\n",
    "from io import StringIO  \n",
    "import pydotplus\n",
    "\n",
    "# Seaborn settings\n",
    "sns.set_context('notebook')\n",
    "#sns.set_style(\"whitegrid\")\n",
    "#sns.set_style(\"white\")\n",
    "style_set = sns.set_style('whitegrid')\n",
    "pd.options.display.float_format = '{:,}'.format\n",
    "color_choice1 = 'plum'\n",
    "color_choice2 = 'lightblue'\n",
    "color_choice3 = 'lightgreen'\n",
    "color_choice4 = 'blue'\n",
    "#ax.yaxis.set_major_formatter('{x:,.0f}')\n",
    "#sns.set_context('notebook', font_scale = 4)\n",
    "\n",
    "#from mpl_toolkits.basemap import Basemap\n",
    "import geopandas as gpd\n",
    "from shapely.geometry import Point, Polygon\n",
    "import contextily as ctx\n",
    "\n",
    "from sklearn.feature_extraction.text import CountVectorizer\n",
    "import json\n",
    "from ydata_profiling import ProfileReport\n",
    "import calendar\n"
   ]
  },
  {
   "cell_type": "markdown",
   "id": "fbf95157",
   "metadata": {},
   "source": [
    "## <font color='orange'>Load the data</font>\n",
    "\n"
   ]
  },
  {
   "cell_type": "code",
   "execution_count": 2,
   "id": "892bc82a",
   "metadata": {},
   "outputs": [],
   "source": [
    "# load data\n",
    "dfue = pd.read_csv(\"takehome_user_engagement.csv\")\n",
    "dfu = pd.read_csv(\"takehome_users.csv\", encoding='latin-1')\n",
    "#df = pd.read_csv(\"../Data/StormEvents_details-ftp_v1.0_d2001_c20220425.csv\")"
   ]
  },
  {
   "cell_type": "code",
   "execution_count": 3,
   "id": "ae47872c",
   "metadata": {},
   "outputs": [
    {
     "data": {
      "text/html": [
       "<div>\n",
       "<style scoped>\n",
       "    .dataframe tbody tr th:only-of-type {\n",
       "        vertical-align: middle;\n",
       "    }\n",
       "\n",
       "    .dataframe tbody tr th {\n",
       "        vertical-align: top;\n",
       "    }\n",
       "\n",
       "    .dataframe thead th {\n",
       "        text-align: right;\n",
       "    }\n",
       "</style>\n",
       "<table border=\"1\" class=\"dataframe\">\n",
       "  <thead>\n",
       "    <tr style=\"text-align: right;\">\n",
       "      <th></th>\n",
       "      <th>time_stamp</th>\n",
       "      <th>user_id</th>\n",
       "      <th>visited</th>\n",
       "    </tr>\n",
       "  </thead>\n",
       "  <tbody>\n",
       "    <tr>\n",
       "      <th>0</th>\n",
       "      <td>2014-04-22 03:53:30</td>\n",
       "      <td>1</td>\n",
       "      <td>1</td>\n",
       "    </tr>\n",
       "    <tr>\n",
       "      <th>1</th>\n",
       "      <td>2013-11-15 03:45:04</td>\n",
       "      <td>2</td>\n",
       "      <td>1</td>\n",
       "    </tr>\n",
       "    <tr>\n",
       "      <th>2</th>\n",
       "      <td>2013-11-29 03:45:04</td>\n",
       "      <td>2</td>\n",
       "      <td>1</td>\n",
       "    </tr>\n",
       "    <tr>\n",
       "      <th>3</th>\n",
       "      <td>2013-12-09 03:45:04</td>\n",
       "      <td>2</td>\n",
       "      <td>1</td>\n",
       "    </tr>\n",
       "    <tr>\n",
       "      <th>4</th>\n",
       "      <td>2013-12-25 03:45:04</td>\n",
       "      <td>2</td>\n",
       "      <td>1</td>\n",
       "    </tr>\n",
       "  </tbody>\n",
       "</table>\n",
       "</div>"
      ],
      "text/plain": [
       "            time_stamp  user_id  visited\n",
       "0  2014-04-22 03:53:30        1        1\n",
       "1  2013-11-15 03:45:04        2        1\n",
       "2  2013-11-29 03:45:04        2        1\n",
       "3  2013-12-09 03:45:04        2        1\n",
       "4  2013-12-25 03:45:04        2        1"
      ]
     },
     "execution_count": 3,
     "metadata": {},
     "output_type": "execute_result"
    }
   ],
   "source": [
    "dfue.head()"
   ]
  },
  {
   "cell_type": "code",
   "execution_count": 4,
   "id": "7dc1be62",
   "metadata": {},
   "outputs": [
    {
     "data": {
      "text/html": [
       "<div>\n",
       "<style scoped>\n",
       "    .dataframe tbody tr th:only-of-type {\n",
       "        vertical-align: middle;\n",
       "    }\n",
       "\n",
       "    .dataframe tbody tr th {\n",
       "        vertical-align: top;\n",
       "    }\n",
       "\n",
       "    .dataframe thead th {\n",
       "        text-align: right;\n",
       "    }\n",
       "</style>\n",
       "<table border=\"1\" class=\"dataframe\">\n",
       "  <thead>\n",
       "    <tr style=\"text-align: right;\">\n",
       "      <th></th>\n",
       "      <th>object_id</th>\n",
       "      <th>creation_time</th>\n",
       "      <th>name</th>\n",
       "      <th>email</th>\n",
       "      <th>creation_source</th>\n",
       "      <th>last_session_creation_time</th>\n",
       "      <th>opted_in_to_mailing_list</th>\n",
       "      <th>enabled_for_marketing_drip</th>\n",
       "      <th>org_id</th>\n",
       "      <th>invited_by_user_id</th>\n",
       "    </tr>\n",
       "  </thead>\n",
       "  <tbody>\n",
       "    <tr>\n",
       "      <th>0</th>\n",
       "      <td>1</td>\n",
       "      <td>2014-04-22 03:53:30</td>\n",
       "      <td>Clausen August</td>\n",
       "      <td>AugustCClausen@yahoo.com</td>\n",
       "      <td>GUEST_INVITE</td>\n",
       "      <td>1,398,138,810.0</td>\n",
       "      <td>1</td>\n",
       "      <td>0</td>\n",
       "      <td>11</td>\n",
       "      <td>10,803.0</td>\n",
       "    </tr>\n",
       "    <tr>\n",
       "      <th>1</th>\n",
       "      <td>2</td>\n",
       "      <td>2013-11-15 03:45:04</td>\n",
       "      <td>Poole Matthew</td>\n",
       "      <td>MatthewPoole@gustr.com</td>\n",
       "      <td>ORG_INVITE</td>\n",
       "      <td>1,396,237,504.0</td>\n",
       "      <td>0</td>\n",
       "      <td>0</td>\n",
       "      <td>1</td>\n",
       "      <td>316.0</td>\n",
       "    </tr>\n",
       "    <tr>\n",
       "      <th>2</th>\n",
       "      <td>3</td>\n",
       "      <td>2013-03-19 23:14:52</td>\n",
       "      <td>Bottrill Mitchell</td>\n",
       "      <td>MitchellBottrill@gustr.com</td>\n",
       "      <td>ORG_INVITE</td>\n",
       "      <td>1,363,734,892.0</td>\n",
       "      <td>0</td>\n",
       "      <td>0</td>\n",
       "      <td>94</td>\n",
       "      <td>1,525.0</td>\n",
       "    </tr>\n",
       "    <tr>\n",
       "      <th>3</th>\n",
       "      <td>4</td>\n",
       "      <td>2013-05-21 08:09:28</td>\n",
       "      <td>Clausen Nicklas</td>\n",
       "      <td>NicklasSClausen@yahoo.com</td>\n",
       "      <td>GUEST_INVITE</td>\n",
       "      <td>1,369,210,168.0</td>\n",
       "      <td>0</td>\n",
       "      <td>0</td>\n",
       "      <td>1</td>\n",
       "      <td>5,151.0</td>\n",
       "    </tr>\n",
       "    <tr>\n",
       "      <th>4</th>\n",
       "      <td>5</td>\n",
       "      <td>2013-01-17 10:14:20</td>\n",
       "      <td>Raw Grace</td>\n",
       "      <td>GraceRaw@yahoo.com</td>\n",
       "      <td>GUEST_INVITE</td>\n",
       "      <td>1,358,849,660.0</td>\n",
       "      <td>0</td>\n",
       "      <td>0</td>\n",
       "      <td>193</td>\n",
       "      <td>5,240.0</td>\n",
       "    </tr>\n",
       "  </tbody>\n",
       "</table>\n",
       "</div>"
      ],
      "text/plain": [
       "   object_id        creation_time               name  \\\n",
       "0          1  2014-04-22 03:53:30     Clausen August   \n",
       "1          2  2013-11-15 03:45:04      Poole Matthew   \n",
       "2          3  2013-03-19 23:14:52  Bottrill Mitchell   \n",
       "3          4  2013-05-21 08:09:28    Clausen Nicklas   \n",
       "4          5  2013-01-17 10:14:20          Raw Grace   \n",
       "\n",
       "                        email creation_source  last_session_creation_time  \\\n",
       "0    AugustCClausen@yahoo.com    GUEST_INVITE             1,398,138,810.0   \n",
       "1      MatthewPoole@gustr.com      ORG_INVITE             1,396,237,504.0   \n",
       "2  MitchellBottrill@gustr.com      ORG_INVITE             1,363,734,892.0   \n",
       "3   NicklasSClausen@yahoo.com    GUEST_INVITE             1,369,210,168.0   \n",
       "4          GraceRaw@yahoo.com    GUEST_INVITE             1,358,849,660.0   \n",
       "\n",
       "   opted_in_to_mailing_list  enabled_for_marketing_drip  org_id  \\\n",
       "0                         1                           0      11   \n",
       "1                         0                           0       1   \n",
       "2                         0                           0      94   \n",
       "3                         0                           0       1   \n",
       "4                         0                           0     193   \n",
       "\n",
       "   invited_by_user_id  \n",
       "0            10,803.0  \n",
       "1               316.0  \n",
       "2             1,525.0  \n",
       "3             5,151.0  \n",
       "4             5,240.0  "
      ]
     },
     "execution_count": 4,
     "metadata": {},
     "output_type": "execute_result"
    }
   ],
   "source": [
    "dfu.head()"
   ]
  },
  {
   "cell_type": "markdown",
   "id": "00fc4508",
   "metadata": {},
   "source": [
    "profile = ProfileReport(dfue)\n",
    "profile"
   ]
  },
  {
   "cell_type": "markdown",
   "id": "05fd1242",
   "metadata": {},
   "source": [
    "profile = ProfileReport(dfu)\n",
    "profile"
   ]
  },
  {
   "cell_type": "markdown",
   "id": "996c19f3",
   "metadata": {},
   "source": [
    "## <font color='orange'>Data Quality Observations</font>\n",
    "- takehome_user_engagement.csv appears to be a clean dataset - no missing values, no duplicates\n",
    "- takehome_users.csv has 8760 missing values - 7.3%. We'll need to address those. The missing values are primiarly concentrated in last_session_creation_time (26.5% of values are missing) and invited_by_user_id (46.5% of values are missing)\n"
   ]
  },
  {
   "cell_type": "code",
   "execution_count": null,
   "id": "f672c05a",
   "metadata": {},
   "outputs": [],
   "source": []
  },
  {
   "cell_type": "markdown",
   "id": "345fddc6",
   "metadata": {},
   "source": [
    "## <font color='orange'>Data wrangling</font>"
   ]
  },
  {
   "cell_type": "markdown",
   "id": "d1684e75",
   "metadata": {},
   "source": [
    "We need to create a feature for whether or not a users has adopted, as this will be the dependent variable, and it does not yet exist."
   ]
  },
  {
   "cell_type": "code",
   "execution_count": 5,
   "id": "59ef122c",
   "metadata": {},
   "outputs": [],
   "source": [
    "dfue['time_stamp'] = pd.to_datetime(dfue['time_stamp']) - pd.to_timedelta(7, unit='d')"
   ]
  },
  {
   "cell_type": "code",
   "execution_count": 6,
   "id": "e4ee710b",
   "metadata": {},
   "outputs": [],
   "source": [
    "dfue_stats = pd.Series([], dtype='int64')"
   ]
  },
  {
   "cell_type": "code",
   "execution_count": 7,
   "id": "98e26ac5",
   "metadata": {},
   "outputs": [],
   "source": [
    "days = ['MON', 'TUE', 'WED', 'THU', 'FRI', 'SAT', 'SUN']\n",
    "for day in days:\n",
    "    k = dfue.groupby(['user_id', pd.Grouper(key='time_stamp', freq='W-' + day)])['visited'].count().reset_index().sort_values('user_id')\n",
    "    k = k.groupby('user_id')['visited'].max()\n",
    "    if len(dfue_stats) == 0:\n",
    "        dfue_stats = k\n",
    "    else:\n",
    "        dfue_stats = pd.DataFrame([dfue_stats, k]).max()"
   ]
  },
  {
   "cell_type": "code",
   "execution_count": 8,
   "id": "85539ace",
   "metadata": {},
   "outputs": [
    {
     "data": {
      "text/plain": [
       "user_id\n",
       "1    1\n",
       "2    3\n",
       "3    1\n",
       "4    1\n",
       "5    1\n",
       "dtype: int64"
      ]
     },
     "execution_count": 8,
     "metadata": {},
     "output_type": "execute_result"
    }
   ],
   "source": [
    "dfue_stats.head()"
   ]
  },
  {
   "cell_type": "code",
   "execution_count": 9,
   "id": "15fed26d",
   "metadata": {},
   "outputs": [],
   "source": [
    "# lambda function to created adopted_user column with criteria of 3 logins\n",
    "dfu['adopted_user'] = dfu['object_id'].apply(lambda x: 'Y' if x in dfue_stats and dfue_stats[x] >= 3 else 'N')"
   ]
  },
  {
   "cell_type": "code",
   "execution_count": 10,
   "id": "3896f179",
   "metadata": {},
   "outputs": [
    {
     "data": {
      "text/plain": [
       "N    10398\n",
       "Y     1602\n",
       "Name: adopted_user, dtype: int64"
      ]
     },
     "execution_count": 10,
     "metadata": {},
     "output_type": "execute_result"
    }
   ],
   "source": [
    "dfu['adopted_user'].value_counts()"
   ]
  },
  {
   "cell_type": "code",
   "execution_count": 11,
   "id": "e638d9fc",
   "metadata": {},
   "outputs": [
    {
     "data": {
      "text/plain": [
       "0.1335"
      ]
     },
     "execution_count": 11,
     "metadata": {},
     "output_type": "execute_result"
    }
   ],
   "source": [
    "# calculate the overall adoption rate\n",
    "len(dfu.loc[(dfu['adopted_user'] == 'Y')]) / len(dfu)\n"
   ]
  },
  {
   "cell_type": "markdown",
   "id": "5d31516e",
   "metadata": {},
   "source": [
    "#### The overall adoption rate is 13.4%.  Note this also means that our dependent variable has a meaningful class imbalance."
   ]
  },
  {
   "cell_type": "code",
   "execution_count": 12,
   "id": "71eb4774",
   "metadata": {},
   "outputs": [],
   "source": [
    "#invited_users = dfu[dfu['invited_by_user_id'].notnull()]['invited_by_user_id'].astype('int')\n",
    "#invited_users = pd.Series(1, index=invited_users)"
   ]
  },
  {
   "cell_type": "code",
   "execution_count": 13,
   "id": "10260acb",
   "metadata": {},
   "outputs": [],
   "source": [
    "# change all binary varies to Y and N\n",
    "dfu['referral'] = dfu['invited_by_user_id'].apply(lambda x: 'Y' if x > 0 else 'N')\n",
    "dfu['enabled_for_marketing_drip'] = dfu['enabled_for_marketing_drip'].apply(lambda x: 'Y' if x > 0 else 'N')"
   ]
  },
  {
   "cell_type": "code",
   "execution_count": 14,
   "id": "4234a741",
   "metadata": {},
   "outputs": [
    {
     "data": {
      "text/html": [
       "<div>\n",
       "<style scoped>\n",
       "    .dataframe tbody tr th:only-of-type {\n",
       "        vertical-align: middle;\n",
       "    }\n",
       "\n",
       "    .dataframe tbody tr th {\n",
       "        vertical-align: top;\n",
       "    }\n",
       "\n",
       "    .dataframe thead th {\n",
       "        text-align: right;\n",
       "    }\n",
       "</style>\n",
       "<table border=\"1\" class=\"dataframe\">\n",
       "  <thead>\n",
       "    <tr style=\"text-align: right;\">\n",
       "      <th></th>\n",
       "      <th>object_id</th>\n",
       "      <th>creation_time</th>\n",
       "      <th>name</th>\n",
       "      <th>email</th>\n",
       "      <th>creation_source</th>\n",
       "      <th>last_session_creation_time</th>\n",
       "      <th>opted_in_to_mailing_list</th>\n",
       "      <th>enabled_for_marketing_drip</th>\n",
       "      <th>org_id</th>\n",
       "      <th>invited_by_user_id</th>\n",
       "      <th>adopted_user</th>\n",
       "      <th>referral</th>\n",
       "    </tr>\n",
       "  </thead>\n",
       "  <tbody>\n",
       "    <tr>\n",
       "      <th>0</th>\n",
       "      <td>1</td>\n",
       "      <td>2014-04-22 03:53:30</td>\n",
       "      <td>Clausen August</td>\n",
       "      <td>AugustCClausen@yahoo.com</td>\n",
       "      <td>GUEST_INVITE</td>\n",
       "      <td>1,398,138,810.0</td>\n",
       "      <td>1</td>\n",
       "      <td>N</td>\n",
       "      <td>11</td>\n",
       "      <td>10,803.0</td>\n",
       "      <td>N</td>\n",
       "      <td>Y</td>\n",
       "    </tr>\n",
       "    <tr>\n",
       "      <th>1</th>\n",
       "      <td>2</td>\n",
       "      <td>2013-11-15 03:45:04</td>\n",
       "      <td>Poole Matthew</td>\n",
       "      <td>MatthewPoole@gustr.com</td>\n",
       "      <td>ORG_INVITE</td>\n",
       "      <td>1,396,237,504.0</td>\n",
       "      <td>0</td>\n",
       "      <td>N</td>\n",
       "      <td>1</td>\n",
       "      <td>316.0</td>\n",
       "      <td>Y</td>\n",
       "      <td>Y</td>\n",
       "    </tr>\n",
       "    <tr>\n",
       "      <th>2</th>\n",
       "      <td>3</td>\n",
       "      <td>2013-03-19 23:14:52</td>\n",
       "      <td>Bottrill Mitchell</td>\n",
       "      <td>MitchellBottrill@gustr.com</td>\n",
       "      <td>ORG_INVITE</td>\n",
       "      <td>1,363,734,892.0</td>\n",
       "      <td>0</td>\n",
       "      <td>N</td>\n",
       "      <td>94</td>\n",
       "      <td>1,525.0</td>\n",
       "      <td>N</td>\n",
       "      <td>Y</td>\n",
       "    </tr>\n",
       "    <tr>\n",
       "      <th>3</th>\n",
       "      <td>4</td>\n",
       "      <td>2013-05-21 08:09:28</td>\n",
       "      <td>Clausen Nicklas</td>\n",
       "      <td>NicklasSClausen@yahoo.com</td>\n",
       "      <td>GUEST_INVITE</td>\n",
       "      <td>1,369,210,168.0</td>\n",
       "      <td>0</td>\n",
       "      <td>N</td>\n",
       "      <td>1</td>\n",
       "      <td>5,151.0</td>\n",
       "      <td>N</td>\n",
       "      <td>Y</td>\n",
       "    </tr>\n",
       "    <tr>\n",
       "      <th>4</th>\n",
       "      <td>5</td>\n",
       "      <td>2013-01-17 10:14:20</td>\n",
       "      <td>Raw Grace</td>\n",
       "      <td>GraceRaw@yahoo.com</td>\n",
       "      <td>GUEST_INVITE</td>\n",
       "      <td>1,358,849,660.0</td>\n",
       "      <td>0</td>\n",
       "      <td>N</td>\n",
       "      <td>193</td>\n",
       "      <td>5,240.0</td>\n",
       "      <td>N</td>\n",
       "      <td>Y</td>\n",
       "    </tr>\n",
       "  </tbody>\n",
       "</table>\n",
       "</div>"
      ],
      "text/plain": [
       "   object_id        creation_time               name  \\\n",
       "0          1  2014-04-22 03:53:30     Clausen August   \n",
       "1          2  2013-11-15 03:45:04      Poole Matthew   \n",
       "2          3  2013-03-19 23:14:52  Bottrill Mitchell   \n",
       "3          4  2013-05-21 08:09:28    Clausen Nicklas   \n",
       "4          5  2013-01-17 10:14:20          Raw Grace   \n",
       "\n",
       "                        email creation_source  last_session_creation_time  \\\n",
       "0    AugustCClausen@yahoo.com    GUEST_INVITE             1,398,138,810.0   \n",
       "1      MatthewPoole@gustr.com      ORG_INVITE             1,396,237,504.0   \n",
       "2  MitchellBottrill@gustr.com      ORG_INVITE             1,363,734,892.0   \n",
       "3   NicklasSClausen@yahoo.com    GUEST_INVITE             1,369,210,168.0   \n",
       "4          GraceRaw@yahoo.com    GUEST_INVITE             1,358,849,660.0   \n",
       "\n",
       "   opted_in_to_mailing_list enabled_for_marketing_drip  org_id  \\\n",
       "0                         1                          N      11   \n",
       "1                         0                          N       1   \n",
       "2                         0                          N      94   \n",
       "3                         0                          N       1   \n",
       "4                         0                          N     193   \n",
       "\n",
       "   invited_by_user_id adopted_user referral  \n",
       "0            10,803.0            N        Y  \n",
       "1               316.0            Y        Y  \n",
       "2             1,525.0            N        Y  \n",
       "3             5,151.0            N        Y  \n",
       "4             5,240.0            N        Y  "
      ]
     },
     "execution_count": 14,
     "metadata": {},
     "output_type": "execute_result"
    }
   ],
   "source": [
    "dfu.head()"
   ]
  },
  {
   "cell_type": "code",
   "execution_count": 15,
   "id": "a500a5f5",
   "metadata": {},
   "outputs": [],
   "source": [
    "dfu['opted_in_to_mailing_list'] = dfu['opted_in_to_mailing_list'].apply(lambda x: 'Y' if x == 1 else 'N')"
   ]
  },
  {
   "cell_type": "code",
   "execution_count": 16,
   "id": "885f5e19",
   "metadata": {},
   "outputs": [
    {
     "data": {
      "text/html": [
       "<div>\n",
       "<style scoped>\n",
       "    .dataframe tbody tr th:only-of-type {\n",
       "        vertical-align: middle;\n",
       "    }\n",
       "\n",
       "    .dataframe tbody tr th {\n",
       "        vertical-align: top;\n",
       "    }\n",
       "\n",
       "    .dataframe thead th {\n",
       "        text-align: right;\n",
       "    }\n",
       "</style>\n",
       "<table border=\"1\" class=\"dataframe\">\n",
       "  <thead>\n",
       "    <tr style=\"text-align: right;\">\n",
       "      <th></th>\n",
       "      <th>object_id</th>\n",
       "      <th>creation_time</th>\n",
       "      <th>name</th>\n",
       "      <th>email</th>\n",
       "      <th>creation_source</th>\n",
       "      <th>last_session_creation_time</th>\n",
       "      <th>opted_in_to_mailing_list</th>\n",
       "      <th>enabled_for_marketing_drip</th>\n",
       "      <th>org_id</th>\n",
       "      <th>invited_by_user_id</th>\n",
       "      <th>adopted_user</th>\n",
       "      <th>referral</th>\n",
       "    </tr>\n",
       "  </thead>\n",
       "  <tbody>\n",
       "    <tr>\n",
       "      <th>0</th>\n",
       "      <td>1</td>\n",
       "      <td>2014-04-22 03:53:30</td>\n",
       "      <td>Clausen August</td>\n",
       "      <td>AugustCClausen@yahoo.com</td>\n",
       "      <td>GUEST_INVITE</td>\n",
       "      <td>1,398,138,810.0</td>\n",
       "      <td>Y</td>\n",
       "      <td>N</td>\n",
       "      <td>11</td>\n",
       "      <td>10,803.0</td>\n",
       "      <td>N</td>\n",
       "      <td>Y</td>\n",
       "    </tr>\n",
       "    <tr>\n",
       "      <th>1</th>\n",
       "      <td>2</td>\n",
       "      <td>2013-11-15 03:45:04</td>\n",
       "      <td>Poole Matthew</td>\n",
       "      <td>MatthewPoole@gustr.com</td>\n",
       "      <td>ORG_INVITE</td>\n",
       "      <td>1,396,237,504.0</td>\n",
       "      <td>N</td>\n",
       "      <td>N</td>\n",
       "      <td>1</td>\n",
       "      <td>316.0</td>\n",
       "      <td>Y</td>\n",
       "      <td>Y</td>\n",
       "    </tr>\n",
       "    <tr>\n",
       "      <th>2</th>\n",
       "      <td>3</td>\n",
       "      <td>2013-03-19 23:14:52</td>\n",
       "      <td>Bottrill Mitchell</td>\n",
       "      <td>MitchellBottrill@gustr.com</td>\n",
       "      <td>ORG_INVITE</td>\n",
       "      <td>1,363,734,892.0</td>\n",
       "      <td>N</td>\n",
       "      <td>N</td>\n",
       "      <td>94</td>\n",
       "      <td>1,525.0</td>\n",
       "      <td>N</td>\n",
       "      <td>Y</td>\n",
       "    </tr>\n",
       "    <tr>\n",
       "      <th>3</th>\n",
       "      <td>4</td>\n",
       "      <td>2013-05-21 08:09:28</td>\n",
       "      <td>Clausen Nicklas</td>\n",
       "      <td>NicklasSClausen@yahoo.com</td>\n",
       "      <td>GUEST_INVITE</td>\n",
       "      <td>1,369,210,168.0</td>\n",
       "      <td>N</td>\n",
       "      <td>N</td>\n",
       "      <td>1</td>\n",
       "      <td>5,151.0</td>\n",
       "      <td>N</td>\n",
       "      <td>Y</td>\n",
       "    </tr>\n",
       "    <tr>\n",
       "      <th>4</th>\n",
       "      <td>5</td>\n",
       "      <td>2013-01-17 10:14:20</td>\n",
       "      <td>Raw Grace</td>\n",
       "      <td>GraceRaw@yahoo.com</td>\n",
       "      <td>GUEST_INVITE</td>\n",
       "      <td>1,358,849,660.0</td>\n",
       "      <td>N</td>\n",
       "      <td>N</td>\n",
       "      <td>193</td>\n",
       "      <td>5,240.0</td>\n",
       "      <td>N</td>\n",
       "      <td>Y</td>\n",
       "    </tr>\n",
       "    <tr>\n",
       "      <th>5</th>\n",
       "      <td>6</td>\n",
       "      <td>2013-12-17 03:37:06</td>\n",
       "      <td>Cunha Eduardo</td>\n",
       "      <td>EduardoPereiraCunha@yahoo.com</td>\n",
       "      <td>GUEST_INVITE</td>\n",
       "      <td>1,387,424,226.0</td>\n",
       "      <td>N</td>\n",
       "      <td>N</td>\n",
       "      <td>197</td>\n",
       "      <td>11,241.0</td>\n",
       "      <td>N</td>\n",
       "      <td>Y</td>\n",
       "    </tr>\n",
       "    <tr>\n",
       "      <th>6</th>\n",
       "      <td>7</td>\n",
       "      <td>2012-12-16 13:24:32</td>\n",
       "      <td>Sewell Tyler</td>\n",
       "      <td>TylerSewell@jourrapide.com</td>\n",
       "      <td>SIGNUP</td>\n",
       "      <td>1,356,009,872.0</td>\n",
       "      <td>N</td>\n",
       "      <td>Y</td>\n",
       "      <td>37</td>\n",
       "      <td>NaN</td>\n",
       "      <td>N</td>\n",
       "      <td>N</td>\n",
       "    </tr>\n",
       "    <tr>\n",
       "      <th>7</th>\n",
       "      <td>8</td>\n",
       "      <td>2013-07-31 05:34:02</td>\n",
       "      <td>Hamilton Danielle</td>\n",
       "      <td>DanielleHamilton@yahoo.com</td>\n",
       "      <td>PERSONAL_PROJECTS</td>\n",
       "      <td>NaN</td>\n",
       "      <td>Y</td>\n",
       "      <td>Y</td>\n",
       "      <td>74</td>\n",
       "      <td>NaN</td>\n",
       "      <td>N</td>\n",
       "      <td>N</td>\n",
       "    </tr>\n",
       "    <tr>\n",
       "      <th>8</th>\n",
       "      <td>9</td>\n",
       "      <td>2013-11-05 04:04:24</td>\n",
       "      <td>Amsel Paul</td>\n",
       "      <td>PaulAmsel@hotmail.com</td>\n",
       "      <td>PERSONAL_PROJECTS</td>\n",
       "      <td>NaN</td>\n",
       "      <td>N</td>\n",
       "      <td>N</td>\n",
       "      <td>302</td>\n",
       "      <td>NaN</td>\n",
       "      <td>N</td>\n",
       "      <td>N</td>\n",
       "    </tr>\n",
       "    <tr>\n",
       "      <th>9</th>\n",
       "      <td>10</td>\n",
       "      <td>2013-01-16 22:08:03</td>\n",
       "      <td>Santos Carla</td>\n",
       "      <td>CarlaFerreiraSantos@gustr.com</td>\n",
       "      <td>ORG_INVITE</td>\n",
       "      <td>1,401,833,283.0</td>\n",
       "      <td>Y</td>\n",
       "      <td>Y</td>\n",
       "      <td>318</td>\n",
       "      <td>4,143.0</td>\n",
       "      <td>Y</td>\n",
       "      <td>Y</td>\n",
       "    </tr>\n",
       "  </tbody>\n",
       "</table>\n",
       "</div>"
      ],
      "text/plain": [
       "   object_id        creation_time               name  \\\n",
       "0          1  2014-04-22 03:53:30     Clausen August   \n",
       "1          2  2013-11-15 03:45:04      Poole Matthew   \n",
       "2          3  2013-03-19 23:14:52  Bottrill Mitchell   \n",
       "3          4  2013-05-21 08:09:28    Clausen Nicklas   \n",
       "4          5  2013-01-17 10:14:20          Raw Grace   \n",
       "5          6  2013-12-17 03:37:06      Cunha Eduardo   \n",
       "6          7  2012-12-16 13:24:32       Sewell Tyler   \n",
       "7          8  2013-07-31 05:34:02  Hamilton Danielle   \n",
       "8          9  2013-11-05 04:04:24         Amsel Paul   \n",
       "9         10  2013-01-16 22:08:03       Santos Carla   \n",
       "\n",
       "                           email    creation_source  \\\n",
       "0       AugustCClausen@yahoo.com       GUEST_INVITE   \n",
       "1         MatthewPoole@gustr.com         ORG_INVITE   \n",
       "2     MitchellBottrill@gustr.com         ORG_INVITE   \n",
       "3      NicklasSClausen@yahoo.com       GUEST_INVITE   \n",
       "4             GraceRaw@yahoo.com       GUEST_INVITE   \n",
       "5  EduardoPereiraCunha@yahoo.com       GUEST_INVITE   \n",
       "6     TylerSewell@jourrapide.com             SIGNUP   \n",
       "7     DanielleHamilton@yahoo.com  PERSONAL_PROJECTS   \n",
       "8          PaulAmsel@hotmail.com  PERSONAL_PROJECTS   \n",
       "9  CarlaFerreiraSantos@gustr.com         ORG_INVITE   \n",
       "\n",
       "   last_session_creation_time opted_in_to_mailing_list  \\\n",
       "0             1,398,138,810.0                        Y   \n",
       "1             1,396,237,504.0                        N   \n",
       "2             1,363,734,892.0                        N   \n",
       "3             1,369,210,168.0                        N   \n",
       "4             1,358,849,660.0                        N   \n",
       "5             1,387,424,226.0                        N   \n",
       "6             1,356,009,872.0                        N   \n",
       "7                         NaN                        Y   \n",
       "8                         NaN                        N   \n",
       "9             1,401,833,283.0                        Y   \n",
       "\n",
       "  enabled_for_marketing_drip  org_id  invited_by_user_id adopted_user referral  \n",
       "0                          N      11            10,803.0            N        Y  \n",
       "1                          N       1               316.0            Y        Y  \n",
       "2                          N      94             1,525.0            N        Y  \n",
       "3                          N       1             5,151.0            N        Y  \n",
       "4                          N     193             5,240.0            N        Y  \n",
       "5                          N     197            11,241.0            N        Y  \n",
       "6                          Y      37                 NaN            N        N  \n",
       "7                          Y      74                 NaN            N        N  \n",
       "8                          N     302                 NaN            N        N  \n",
       "9                          Y     318             4,143.0            Y        Y  "
      ]
     },
     "execution_count": 16,
     "metadata": {},
     "output_type": "execute_result"
    }
   ],
   "source": [
    "dfu.head(10)"
   ]
  },
  {
   "cell_type": "code",
   "execution_count": null,
   "id": "70ddc649",
   "metadata": {},
   "outputs": [],
   "source": []
  },
  {
   "cell_type": "code",
   "execution_count": 17,
   "id": "9c73cab4",
   "metadata": {},
   "outputs": [
    {
     "data": {
      "image/png": "[encoded data removed]",
      "text/plain": [
       "<Figure size 864x432 with 1 Axes>"
      ]
     },
     "metadata": {},
     "output_type": "display_data"
    }
   ],
   "source": [
    "fig, ax = plt.subplots(figsize = (12 , 6))\n",
    "sns.countplot(x='creation_source', data=dfu, hue='adopted_user');\n",
    "ax.yaxis.set_major_formatter('{x:,.0f}')\n",
    "plt.xticks(rotation=45);"
   ]
  },
  {
   "cell_type": "markdown",
   "id": "9c59c7f2",
   "metadata": {},
   "source": [
    "Comment: creation_source seems to follow a similar pattern to the overall dataset in terms of adoption rate"
   ]
  },
  {
   "cell_type": "code",
   "execution_count": null,
   "id": "79fbaddc",
   "metadata": {},
   "outputs": [],
   "source": []
  },
  {
   "cell_type": "code",
   "execution_count": 18,
   "id": "663200dd",
   "metadata": {},
   "outputs": [
    {
     "data": {
      "image/png": "[encoded data removed]",
      "text/plain": [
       "<Figure size 864x432 with 1 Axes>"
      ]
     },
     "metadata": {},
     "output_type": "display_data"
    }
   ],
   "source": [
    "fig, ax = plt.subplots(figsize = (12 , 6))\n",
    "sns.countplot(x='opted_in_to_mailing_list', data=dfu, hue='adopted_user');\n",
    "ax.yaxis.set_major_formatter('{x:,.0f}')\n",
    "plt.xticks(rotation=45);"
   ]
  },
  {
   "cell_type": "markdown",
   "id": "0ffe0d6b",
   "metadata": {},
   "source": [
    "Comment: users that opted into the mailing list appear to adopt at a higher rate than those that don't opt in."
   ]
  },
  {
   "cell_type": "code",
   "execution_count": 19,
   "id": "cb369d72",
   "metadata": {},
   "outputs": [
    {
     "data": {
      "text/plain": [
       "0"
      ]
     },
     "execution_count": 19,
     "metadata": {},
     "output_type": "execute_result"
    }
   ],
   "source": [
    "len(dfu.loc[(dfu['opted_in_to_mailing_list'] == 1)])"
   ]
  },
  {
   "cell_type": "code",
   "execution_count": 20,
   "id": "c01e0b83",
   "metadata": {},
   "outputs": [
    {
     "data": {
      "text/plain": [
       "1602"
      ]
     },
     "execution_count": 20,
     "metadata": {},
     "output_type": "execute_result"
    }
   ],
   "source": [
    "len(dfu.loc[(dfu['adopted_user'] == 'Y')])"
   ]
  },
  {
   "cell_type": "code",
   "execution_count": 21,
   "id": "466bac01",
   "metadata": {},
   "outputs": [
    {
     "data": {
      "text/plain": [
       "414"
      ]
     },
     "execution_count": 21,
     "metadata": {},
     "output_type": "execute_result"
    }
   ],
   "source": [
    "len(dfu.loc[(dfu['adopted_user'] == 'Y') & (dfu['opted_in_to_mailing_list'] == 'Y')])\n"
   ]
  },
  {
   "cell_type": "code",
   "execution_count": 22,
   "id": "ae0377df",
   "metadata": {},
   "outputs": [
    {
     "data": {
      "text/plain": [
       "0.13827655310621242"
      ]
     },
     "execution_count": 22,
     "metadata": {},
     "output_type": "execute_result"
    }
   ],
   "source": [
    "414/2994"
   ]
  },
  {
   "cell_type": "code",
   "execution_count": null,
   "id": "2bf487aa",
   "metadata": {},
   "outputs": [],
   "source": []
  },
  {
   "cell_type": "code",
   "execution_count": 23,
   "id": "267fe40a",
   "metadata": {},
   "outputs": [
    {
     "data": {
      "image/png": "[encoded data removed]",
      "text/plain": [
       "<Figure size 864x432 with 1 Axes>"
      ]
     },
     "metadata": {},
     "output_type": "display_data"
    }
   ],
   "source": [
    "fig, ax = plt.subplots(figsize = (12 , 6))\n",
    "sns.countplot(x='enabled_for_marketing_drip', data=dfu, hue='adopted_user');\n",
    "ax.yaxis.set_major_formatter('{x:,.0f}')\n",
    "plt.xticks(rotation=45);"
   ]
  },
  {
   "cell_type": "markdown",
   "id": "aa2b507a",
   "metadata": {},
   "source": [
    "Comment: users that are enabled for marketing drip appear to adopt at a higher rate"
   ]
  },
  {
   "cell_type": "code",
   "execution_count": 24,
   "id": "055233c4",
   "metadata": {},
   "outputs": [
    {
     "data": {
      "image/png": "[encoded data removed]",
      "text/plain": [
       "<Figure size 864x432 with 1 Axes>"
      ]
     },
     "metadata": {},
     "output_type": "display_data"
    }
   ],
   "source": [
    "fig, ax = plt.subplots(figsize = (12 , 6))\n",
    "sns.countplot(x='referral', data=dfu, hue='adopted_user');\n",
    "ax.yaxis.set_major_formatter('{x:,.0f}')\n",
    "plt.xticks(rotation=45);"
   ]
  },
  {
   "cell_type": "code",
   "execution_count": 25,
   "id": "5c6093d5",
   "metadata": {},
   "outputs": [
    {
     "data": {
      "text/html": [
       "<div>\n",
       "<style scoped>\n",
       "    .dataframe tbody tr th:only-of-type {\n",
       "        vertical-align: middle;\n",
       "    }\n",
       "\n",
       "    .dataframe tbody tr th {\n",
       "        vertical-align: top;\n",
       "    }\n",
       "\n",
       "    .dataframe thead th {\n",
       "        text-align: right;\n",
       "    }\n",
       "</style>\n",
       "<table border=\"1\" class=\"dataframe\">\n",
       "  <thead>\n",
       "    <tr style=\"text-align: right;\">\n",
       "      <th></th>\n",
       "      <th>object_id</th>\n",
       "      <th>creation_time</th>\n",
       "      <th>name</th>\n",
       "      <th>email</th>\n",
       "      <th>creation_source</th>\n",
       "      <th>last_session_creation_time</th>\n",
       "      <th>opted_in_to_mailing_list</th>\n",
       "      <th>enabled_for_marketing_drip</th>\n",
       "      <th>org_id</th>\n",
       "      <th>invited_by_user_id</th>\n",
       "      <th>adopted_user</th>\n",
       "      <th>referral</th>\n",
       "    </tr>\n",
       "  </thead>\n",
       "  <tbody>\n",
       "    <tr>\n",
       "      <th>0</th>\n",
       "      <td>1</td>\n",
       "      <td>2014-04-22 03:53:30</td>\n",
       "      <td>Clausen August</td>\n",
       "      <td>AugustCClausen@yahoo.com</td>\n",
       "      <td>GUEST_INVITE</td>\n",
       "      <td>1,398,138,810.0</td>\n",
       "      <td>Y</td>\n",
       "      <td>N</td>\n",
       "      <td>11</td>\n",
       "      <td>10,803.0</td>\n",
       "      <td>N</td>\n",
       "      <td>Y</td>\n",
       "    </tr>\n",
       "    <tr>\n",
       "      <th>1</th>\n",
       "      <td>2</td>\n",
       "      <td>2013-11-15 03:45:04</td>\n",
       "      <td>Poole Matthew</td>\n",
       "      <td>MatthewPoole@gustr.com</td>\n",
       "      <td>ORG_INVITE</td>\n",
       "      <td>1,396,237,504.0</td>\n",
       "      <td>N</td>\n",
       "      <td>N</td>\n",
       "      <td>1</td>\n",
       "      <td>316.0</td>\n",
       "      <td>Y</td>\n",
       "      <td>Y</td>\n",
       "    </tr>\n",
       "    <tr>\n",
       "      <th>2</th>\n",
       "      <td>3</td>\n",
       "      <td>2013-03-19 23:14:52</td>\n",
       "      <td>Bottrill Mitchell</td>\n",
       "      <td>MitchellBottrill@gustr.com</td>\n",
       "      <td>ORG_INVITE</td>\n",
       "      <td>1,363,734,892.0</td>\n",
       "      <td>N</td>\n",
       "      <td>N</td>\n",
       "      <td>94</td>\n",
       "      <td>1,525.0</td>\n",
       "      <td>N</td>\n",
       "      <td>Y</td>\n",
       "    </tr>\n",
       "    <tr>\n",
       "      <th>3</th>\n",
       "      <td>4</td>\n",
       "      <td>2013-05-21 08:09:28</td>\n",
       "      <td>Clausen Nicklas</td>\n",
       "      <td>NicklasSClausen@yahoo.com</td>\n",
       "      <td>GUEST_INVITE</td>\n",
       "      <td>1,369,210,168.0</td>\n",
       "      <td>N</td>\n",
       "      <td>N</td>\n",
       "      <td>1</td>\n",
       "      <td>5,151.0</td>\n",
       "      <td>N</td>\n",
       "      <td>Y</td>\n",
       "    </tr>\n",
       "    <tr>\n",
       "      <th>4</th>\n",
       "      <td>5</td>\n",
       "      <td>2013-01-17 10:14:20</td>\n",
       "      <td>Raw Grace</td>\n",
       "      <td>GraceRaw@yahoo.com</td>\n",
       "      <td>GUEST_INVITE</td>\n",
       "      <td>1,358,849,660.0</td>\n",
       "      <td>N</td>\n",
       "      <td>N</td>\n",
       "      <td>193</td>\n",
       "      <td>5,240.0</td>\n",
       "      <td>N</td>\n",
       "      <td>Y</td>\n",
       "    </tr>\n",
       "  </tbody>\n",
       "</table>\n",
       "</div>"
      ],
      "text/plain": [
       "   object_id        creation_time               name  \\\n",
       "0          1  2014-04-22 03:53:30     Clausen August   \n",
       "1          2  2013-11-15 03:45:04      Poole Matthew   \n",
       "2          3  2013-03-19 23:14:52  Bottrill Mitchell   \n",
       "3          4  2013-05-21 08:09:28    Clausen Nicklas   \n",
       "4          5  2013-01-17 10:14:20          Raw Grace   \n",
       "\n",
       "                        email creation_source  last_session_creation_time  \\\n",
       "0    AugustCClausen@yahoo.com    GUEST_INVITE             1,398,138,810.0   \n",
       "1      MatthewPoole@gustr.com      ORG_INVITE             1,396,237,504.0   \n",
       "2  MitchellBottrill@gustr.com      ORG_INVITE             1,363,734,892.0   \n",
       "3   NicklasSClausen@yahoo.com    GUEST_INVITE             1,369,210,168.0   \n",
       "4          GraceRaw@yahoo.com    GUEST_INVITE             1,358,849,660.0   \n",
       "\n",
       "  opted_in_to_mailing_list enabled_for_marketing_drip  org_id  \\\n",
       "0                        Y                          N      11   \n",
       "1                        N                          N       1   \n",
       "2                        N                          N      94   \n",
       "3                        N                          N       1   \n",
       "4                        N                          N     193   \n",
       "\n",
       "   invited_by_user_id adopted_user referral  \n",
       "0            10,803.0            N        Y  \n",
       "1               316.0            Y        Y  \n",
       "2             1,525.0            N        Y  \n",
       "3             5,151.0            N        Y  \n",
       "4             5,240.0            N        Y  "
      ]
     },
     "execution_count": 25,
     "metadata": {},
     "output_type": "execute_result"
    }
   ],
   "source": [
    "dfu.head()"
   ]
  },
  {
   "cell_type": "code",
   "execution_count": 26,
   "id": "56369266",
   "metadata": {},
   "outputs": [
    {
     "data": {
      "text/plain": [
       "object_id                       int64\n",
       "creation_time                  object\n",
       "name                           object\n",
       "email                          object\n",
       "creation_source                object\n",
       "last_session_creation_time    float64\n",
       "opted_in_to_mailing_list       object\n",
       "enabled_for_marketing_drip     object\n",
       "org_id                          int64\n",
       "invited_by_user_id            float64\n",
       "adopted_user                   object\n",
       "referral                       object\n",
       "dtype: object"
      ]
     },
     "execution_count": 26,
     "metadata": {},
     "output_type": "execute_result"
    }
   ],
   "source": [
    "dfu.dtypes"
   ]
  },
  {
   "cell_type": "code",
   "execution_count": null,
   "id": "03b8c1fa",
   "metadata": {},
   "outputs": [],
   "source": []
  },
  {
   "cell_type": "code",
   "execution_count": 27,
   "id": "bdf97485",
   "metadata": {},
   "outputs": [],
   "source": [
    "# drop columns that we created to get active status\n",
    "dfu = dfu.drop(['invited_by_user_id', 'name', 'email', 'object_id', 'creation_time', 'last_session_creation_time'], axis=1)"
   ]
  },
  {
   "cell_type": "code",
   "execution_count": 28,
   "id": "db275cbb",
   "metadata": {},
   "outputs": [],
   "source": [
    "# opted_in_to_mailing_list, enabled_for_marketing_drip, and org_id should actually all be categorical\n",
    "dfu[\"opted_in_to_mailing_list\"] = dfu[\"opted_in_to_mailing_list\"].astype(str)\n",
    "dfu[\"enabled_for_marketing_drip\"] = dfu[\"enabled_for_marketing_drip\"].astype(str)\n",
    "dfu[\"org_id\"] = dfu[\"org_id\"].astype(str)"
   ]
  },
  {
   "cell_type": "code",
   "execution_count": 29,
   "id": "d2cfffa9",
   "metadata": {},
   "outputs": [
    {
     "data": {
      "text/plain": [
       "0      319\n",
       "1      233\n",
       "2      201\n",
       "3      168\n",
       "4      159\n",
       "      ... \n",
       "396      9\n",
       "397      8\n",
       "400      8\n",
       "386      7\n",
       "416      2\n",
       "Name: org_id, Length: 417, dtype: int64"
      ]
     },
     "execution_count": 29,
     "metadata": {},
     "output_type": "execute_result"
    }
   ],
   "source": [
    "# we may need to address that org_id has so many different values\n",
    "dfu.org_id.value_counts()"
   ]
  },
  {
   "cell_type": "code",
   "execution_count": null,
   "id": "051ad71b",
   "metadata": {},
   "outputs": [],
   "source": []
  },
  {
   "cell_type": "markdown",
   "id": "8b24f535",
   "metadata": {},
   "source": [
    "## <font color='orange'>Modeling</font>"
   ]
  },
  {
   "cell_type": "markdown",
   "id": "d5f01f76",
   "metadata": {},
   "source": [
    "Create dummy variables"
   ]
  },
  {
   "cell_type": "code",
   "execution_count": 30,
   "id": "828c1a98",
   "metadata": {},
   "outputs": [],
   "source": [
    "# isolate categorical variables\n",
    "categorical_features = dfu.select_dtypes(include=['object'])\n",
    "\n",
    "# exclude dependent variable\n",
    "categorical_features = categorical_features.drop(columns = ['adopted_user'])\n",
    "\n",
    "dfu2 = pd.concat([dfu.drop(categorical_features, axis=1), pd.get_dummies(categorical_features)], axis=1)"
   ]
  },
  {
   "cell_type": "markdown",
   "id": "6a163adb",
   "metadata": {},
   "source": [
    "Split data into training and testing subsets"
   ]
  },
  {
   "cell_type": "code",
   "execution_count": 31,
   "id": "640a73ec",
   "metadata": {},
   "outputs": [],
   "source": [
    "# Create the X and y matrices from the dataframe\n",
    "X = dfu2.drop(columns = ['adopted_user'])\n",
    "y = dfu2['adopted_user']"
   ]
  },
  {
   "cell_type": "code",
   "execution_count": 32,
   "id": "41075227",
   "metadata": {},
   "outputs": [],
   "source": [
    "# train_test_split; reserve 20% for test\n",
    "X_train, X_test, y_train, y_test = train_test_split(X, y, test_size=.20, random_state=23)"
   ]
  },
  {
   "cell_type": "code",
   "execution_count": 33,
   "id": "f791bc91",
   "metadata": {},
   "outputs": [],
   "source": [
    "X_train = X_train.reset_index(drop=True)\n",
    "X_test = X_test.reset_index(drop=True)"
   ]
  },
  {
   "cell_type": "code",
   "execution_count": null,
   "id": "9bc68506",
   "metadata": {},
   "outputs": [],
   "source": []
  },
  {
   "cell_type": "markdown",
   "id": "8b4d30dc",
   "metadata": {},
   "source": [
    "### Load the datasets"
   ]
  },
  {
   "cell_type": "markdown",
   "id": "d629b734",
   "metadata": {},
   "source": [
    "X_train = pd.read_csv('X_train.csv', index_col =[0])\n",
    "X_test = pd.read_csv('X_test.csv', index_col =[0])\n",
    "y_train = pd.read_csv('y_train.csv', index_col =[0]) \n",
    "y_test = pd.read_csv('y_test.csv', index_col =[0])"
   ]
  },
  {
   "cell_type": "code",
   "execution_count": 34,
   "id": "32baac73",
   "metadata": {},
   "outputs": [],
   "source": [
    "eval_set = [(X_train, y_train), (X_test, y_test)]"
   ]
  },
  {
   "cell_type": "markdown",
   "id": "f539f5ae",
   "metadata": {},
   "source": [
    "#### <font color='orange'>Random Forest</font>"
   ]
  },
  {
   "cell_type": "code",
   "execution_count": 35,
   "id": "75bf82d8",
   "metadata": {},
   "outputs": [
    {
     "name": "stdout",
     "output_type": "stream",
     "text": [
      "Classification Report for Training Data\n",
      "              precision    recall  f1-score   support\n",
      "\n",
      "           N       0.91      0.99      0.95      8309\n",
      "           Y       0.84      0.35      0.49      1291\n",
      "\n",
      "    accuracy                           0.90      9600\n",
      "   macro avg       0.87      0.67      0.72      9600\n",
      "weighted avg       0.90      0.90      0.89      9600\n",
      "\n",
      "Classification Report for Test Data\n",
      "              precision    recall  f1-score   support\n",
      "\n",
      "           N       0.87      0.95      0.91      2089\n",
      "           Y       0.16      0.06      0.08       311\n",
      "\n",
      "    accuracy                           0.84      2400\n",
      "   macro avg       0.51      0.51      0.50      2400\n",
      "weighted avg       0.78      0.84      0.80      2400\n",
      "\n"
     ]
    }
   ],
   "source": [
    "# using 3 estimators\n",
    "rf_clf = RandomForestClassifier(random_state = 23, n_jobs=-1)\n",
    "rf_clf.fit(X_train, y_train.values.ravel())\n",
    "y_pred = rf_clf.predict(X_test)\n",
    "\n",
    "# let's look at classification report\n",
    "print(\"Classification Report for Training Data\")\n",
    "print(classification_report(y_train, rf_clf.predict(X_train)))\n",
    "print(\"Classification Report for Test Data\")\n",
    "print(classification_report(y_test, rf_clf.predict(X_test)))"
   ]
  },
  {
   "cell_type": "code",
   "execution_count": 36,
   "id": "aa2bf257",
   "metadata": {},
   "outputs": [
    {
     "name": "stdout",
     "output_type": "stream",
     "text": [
      "30\n"
     ]
    },
    {
     "data": {
      "image/png": "[encoded data removed]",
      "text/plain": [
       "<Figure size 576x576 with 1 Axes>"
      ]
     },
     "metadata": {},
     "output_type": "display_data"
    }
   ],
   "source": [
    "feature_importance = rf_clf.feature_importances_\n",
    "# make importances relative to max importance\n",
    "feature_importance = 100.0 * (feature_importance / feature_importance.max())[:30]\n",
    "sorted_idx = np.argsort(feature_importance)[:30]\n",
    "\n",
    "pos = np.arange(sorted_idx.shape[0]) + .5\n",
    "print(pos.size)\n",
    "sorted_idx.size\n",
    "plt.figure(figsize=(8,8))\n",
    "plt.barh(pos, feature_importance[sorted_idx], align='center', color = 'plum')\n",
    "plt.yticks(pos, X.columns[sorted_idx])\n",
    "plt.xlabel('Relative Importance')\n",
    "plt.title('Variable Importance')\n",
    "plt.show()"
   ]
  },
  {
   "cell_type": "code",
   "execution_count": null,
   "id": "02cfff03",
   "metadata": {},
   "outputs": [],
   "source": []
  },
  {
   "cell_type": "markdown",
   "id": "70978af0",
   "metadata": {},
   "source": [
    "#### Hyperparameter Tuning- RandomizedSearchCV"
   ]
  },
  {
   "cell_type": "code",
   "execution_count": 37,
   "id": "eb26bfbc",
   "metadata": {},
   "outputs": [],
   "source": [
    "# set the parameter grid\n",
    "param_grid = {\n",
    "    'n_estimators': [25, 50, 100, 150],\n",
    "    'max_features': ['sqrt', 'log2', None],\n",
    "    'max_depth': [3, 6, 9],\n",
    "    'max_leaf_nodes': [3, 6, 9],\n",
    "}"
   ]
  },
  {
   "cell_type": "code",
   "execution_count": 38,
   "id": "de89ffc9",
   "metadata": {},
   "outputs": [],
   "source": [
    "# comment out to avoid lengthy run\n",
    "# rf_clf_cv = RandomizedSearchCV(RandomForestClassifier(random_state=23),\n",
    "#                                    param_grid)\n",
    "# rf_clf_cv.fit(X_train, y_train.values.ravel())\n",
    "# print(rf_clf_cv.best_estimator_)"
   ]
  },
  {
   "cell_type": "markdown",
   "id": "7c9e13bf",
   "metadata": {},
   "source": [
    "##### Output of above:\n",
    "\n",
    "1st run\n",
    "RandomForestClassifier(max_depth=3, max_features='log2', max_leaf_nodes=6,\n",
    "                       random_state=23)\n",
    "\n",
    "2nd run\n",
    "\n",
    "\n",
    "\n"
   ]
  },
  {
   "cell_type": "code",
   "execution_count": 39,
   "id": "904a16f7",
   "metadata": {},
   "outputs": [
    {
     "name": "stdout",
     "output_type": "stream",
     "text": [
      "Classification Report for Training Data\n",
      "              precision    recall  f1-score   support\n",
      "\n",
      "           N       0.87      1.00      0.93      8309\n",
      "           Y       0.00      0.00      0.00      1291\n",
      "\n",
      "    accuracy                           0.87      9600\n",
      "   macro avg       0.43      0.50      0.46      9600\n",
      "weighted avg       0.75      0.87      0.80      9600\n",
      "\n",
      "Classification Report for Test Data\n",
      "              precision    recall  f1-score   support\n",
      "\n",
      "           N       0.87      1.00      0.93      2089\n",
      "           Y       0.00      0.00      0.00       311\n",
      "\n",
      "    accuracy                           0.87      2400\n",
      "   macro avg       0.44      0.50      0.47      2400\n",
      "weighted avg       0.76      0.87      0.81      2400\n",
      "\n"
     ]
    }
   ],
   "source": [
    "# update with CV\n",
    "rf_clf_cv = RandomForestClassifier(max_depth=3, max_features='log2', max_leaf_nodes=6, random_state=23)\n",
    "rf_clf_cv.fit(X_train, y_train.values.ravel())\n",
    "y_pred = rf_clf_cv.predict(X_test)\n",
    "\n",
    "# let's look at classification report\n",
    "print(\"Classification Report for Training Data\")\n",
    "print(classification_report(y_train, rf_clf_cv.predict(X_train), zero_division=0))\n",
    "print(\"Classification Report for Test Data\")\n",
    "print(classification_report(y_test, rf_clf_cv.predict(X_test), zero_division=0))"
   ]
  },
  {
   "cell_type": "code",
   "execution_count": 40,
   "id": "62666579",
   "metadata": {},
   "outputs": [
    {
     "name": "stdout",
     "output_type": "stream",
     "text": [
      "30\n"
     ]
    },
    {
     "data": {
      "image/png": "[encoded data removed]",
      "text/plain": [
       "<Figure size 576x576 with 1 Axes>"
      ]
     },
     "metadata": {},
     "output_type": "display_data"
    }
   ],
   "source": [
    "feature_importance = rf_clf_cv.feature_importances_\n",
    "# make importances relative to max importance\n",
    "feature_importance = 100.0 * (feature_importance / feature_importance.max())[:30]\n",
    "sorted_idx = np.argsort(feature_importance)[:30]\n",
    "\n",
    "pos = np.arange(sorted_idx.shape[0]) + .5\n",
    "print(pos.size)\n",
    "sorted_idx.size\n",
    "plt.figure(figsize=(8,8))\n",
    "plt.barh(pos, feature_importance[sorted_idx], align='center', color = 'plum')\n",
    "plt.yticks(pos, X.columns[sorted_idx])\n",
    "plt.xlabel('Relative Importance')\n",
    "plt.title('Variable Importance')\n",
    "plt.show()"
   ]
  },
  {
   "cell_type": "code",
   "execution_count": null,
   "id": "9ed24b0d",
   "metadata": {},
   "outputs": [],
   "source": []
  },
  {
   "cell_type": "markdown",
   "id": "5db07af1",
   "metadata": {},
   "source": [
    "#### <font color='orange'>Light GBM</font>"
   ]
  },
  {
   "cell_type": "code",
   "execution_count": 41,
   "id": "69e63f23",
   "metadata": {},
   "outputs": [
    {
     "name": "stdout",
     "output_type": "stream",
     "text": [
      "[1]\ttraining's binary_logloss: 0.393285\tvalid_1's binary_logloss: 0.38469\n",
      "Training until validation scores don't improve for 20 rounds\n",
      "[2]\ttraining's binary_logloss: 0.391968\tvalid_1's binary_logloss: 0.383817\n",
      "[3]\ttraining's binary_logloss: 0.390854\tvalid_1's binary_logloss: 0.383158\n",
      "[4]\ttraining's binary_logloss: 0.389706\tvalid_1's binary_logloss: 0.382377\n",
      "[5]\ttraining's binary_logloss: 0.388774\tvalid_1's binary_logloss: 0.38195\n",
      "[6]\ttraining's binary_logloss: 0.387984\tvalid_1's binary_logloss: 0.381519\n",
      "[7]\ttraining's binary_logloss: 0.387274\tvalid_1's binary_logloss: 0.381241\n",
      "[8]\ttraining's binary_logloss: 0.386653\tvalid_1's binary_logloss: 0.380972\n",
      "[9]\ttraining's binary_logloss: 0.386007\tvalid_1's binary_logloss: 0.380762\n",
      "[10]\ttraining's binary_logloss: 0.385501\tvalid_1's binary_logloss: 0.38068\n",
      "[11]\ttraining's binary_logloss: 0.384975\tvalid_1's binary_logloss: 0.380554\n",
      "[12]\ttraining's binary_logloss: 0.384466\tvalid_1's binary_logloss: 0.380392\n",
      "[13]\ttraining's binary_logloss: 0.384003\tvalid_1's binary_logloss: 0.380265\n",
      "[14]\ttraining's binary_logloss: 0.383678\tvalid_1's binary_logloss: 0.380206\n",
      "[15]\ttraining's binary_logloss: 0.383303\tvalid_1's binary_logloss: 0.380085\n",
      "[16]\ttraining's binary_logloss: 0.383009\tvalid_1's binary_logloss: 0.37991\n",
      "[17]\ttraining's binary_logloss: 0.382578\tvalid_1's binary_logloss: 0.379931\n",
      "[18]\ttraining's binary_logloss: 0.382185\tvalid_1's binary_logloss: 0.380069\n",
      "[19]\ttraining's binary_logloss: 0.381871\tvalid_1's binary_logloss: 0.37999\n",
      "[20]\ttraining's binary_logloss: 0.381538\tvalid_1's binary_logloss: 0.38002\n",
      "[21]\ttraining's binary_logloss: 0.38121\tvalid_1's binary_logloss: 0.380111\n",
      "[22]\ttraining's binary_logloss: 0.380873\tvalid_1's binary_logloss: 0.380135\n",
      "[23]\ttraining's binary_logloss: 0.380545\tvalid_1's binary_logloss: 0.380215\n",
      "[24]\ttraining's binary_logloss: 0.380347\tvalid_1's binary_logloss: 0.380229\n",
      "[25]\ttraining's binary_logloss: 0.380083\tvalid_1's binary_logloss: 0.380276\n",
      "[26]\ttraining's binary_logloss: 0.379807\tvalid_1's binary_logloss: 0.380265\n",
      "[27]\ttraining's binary_logloss: 0.379642\tvalid_1's binary_logloss: 0.380237\n",
      "[28]\ttraining's binary_logloss: 0.379389\tvalid_1's binary_logloss: 0.380433\n",
      "[29]\ttraining's binary_logloss: 0.3792\tvalid_1's binary_logloss: 0.380386\n",
      "[30]\ttraining's binary_logloss: 0.379041\tvalid_1's binary_logloss: 0.380507\n",
      "[31]\ttraining's binary_logloss: 0.37885\tvalid_1's binary_logloss: 0.380513\n",
      "[32]\ttraining's binary_logloss: 0.378649\tvalid_1's binary_logloss: 0.38061\n",
      "[33]\ttraining's binary_logloss: 0.378453\tvalid_1's binary_logloss: 0.380692\n",
      "[34]\ttraining's binary_logloss: 0.378265\tvalid_1's binary_logloss: 0.380746\n",
      "[35]\ttraining's binary_logloss: 0.378129\tvalid_1's binary_logloss: 0.380761\n",
      "[36]\ttraining's binary_logloss: 0.377896\tvalid_1's binary_logloss: 0.380798\n",
      "Early stopping, best iteration is:\n",
      "[16]\ttraining's binary_logloss: 0.383009\tvalid_1's binary_logloss: 0.37991\n"
     ]
    },
    {
     "data": {
      "text/plain": [
       "LGBMClassifier(random_state=23)"
      ]
     },
     "execution_count": 41,
     "metadata": {},
     "output_type": "execute_result"
    }
   ],
   "source": [
    "# define the model\n",
    "lgbm = LGBMClassifier(random_state=23)\n",
    "lgbm.fit(X_train, y_train, early_stopping_rounds=20, eval_set=eval_set)"
   ]
  },
  {
   "cell_type": "code",
   "execution_count": 42,
   "id": "610dbd43",
   "metadata": {},
   "outputs": [
    {
     "name": "stdout",
     "output_type": "stream",
     "text": [
      "Classification Report for Training Data\n",
      "              precision    recall  f1-score   support\n",
      "\n",
      "           N       0.87      1.00      0.93      8309\n",
      "           Y       0.00      0.00      0.00      1291\n",
      "\n",
      "    accuracy                           0.87      9600\n",
      "   macro avg       0.43      0.50      0.46      9600\n",
      "weighted avg       0.75      0.87      0.80      9600\n",
      "\n",
      "Classification Report for Test Data\n",
      "              precision    recall  f1-score   support\n",
      "\n",
      "           N       0.87      1.00      0.93      2089\n",
      "           Y       0.00      0.00      0.00       311\n",
      "\n",
      "    accuracy                           0.87      2400\n",
      "   macro avg       0.44      0.50      0.47      2400\n",
      "weighted avg       0.76      0.87      0.81      2400\n",
      "\n"
     ]
    }
   ],
   "source": [
    "print(\"Classification Report for Training Data\")\n",
    "print(classification_report(y_train, lgbm.predict(X_train), zero_division=0))\n",
    "print(\"Classification Report for Test Data\")\n",
    "print(classification_report(y_test, lgbm.predict(X_test), zero_division=0))"
   ]
  },
  {
   "cell_type": "code",
   "execution_count": 43,
   "id": "dbd02436",
   "metadata": {},
   "outputs": [
    {
     "name": "stdout",
     "output_type": "stream",
     "text": [
      "30\n"
     ]
    },
    {
     "data": {
      "image/png": "[encoded data removed]",
      "text/plain": [
       "<Figure size 576x576 with 1 Axes>"
      ]
     },
     "metadata": {},
     "output_type": "display_data"
    }
   ],
   "source": [
    "feature_importance = lgbm.feature_importances_\n",
    "# make importances relative to max importance\n",
    "feature_importance = 100.0 * (feature_importance / feature_importance.max())[:30]\n",
    "sorted_idx = np.argsort(feature_importance)[:30]\n",
    "\n",
    "pos = np.arange(sorted_idx.shape[0]) + .5\n",
    "print(pos.size)\n",
    "sorted_idx.size\n",
    "plt.figure(figsize=(8,8))\n",
    "plt.barh(pos, feature_importance[sorted_idx], align='center', color = 'plum')\n",
    "plt.yticks(pos, X.columns[sorted_idx])\n",
    "plt.xlabel('Relative Importance')\n",
    "plt.title('Variable Importance')\n",
    "plt.show()"
   ]
  },
  {
   "cell_type": "code",
   "execution_count": 44,
   "id": "2b92b35d",
   "metadata": {},
   "outputs": [],
   "source": [
    "param_grid = {\n",
    "    'learning_rate': [0.1, 0.3],\n",
    "    'max_depth': [3, 6, 9],\n",
    "    'n_estimators': [50, 100, 150],\n",
    "    'num_leaves': [10, 30, 50],\n",
    "    'colsample_bytree': [.3, .5, .8]\n",
    "}"
   ]
  },
  {
   "cell_type": "code",
   "execution_count": 45,
   "id": "530e1c51",
   "metadata": {},
   "outputs": [],
   "source": [
    "# %%time\n",
    "# markdown since it takes so long to run\n",
    "# random_search = RandomizedSearchCV(LGBMClassifier(random_state=23),\n",
    "#                                    param_grid, n_jobs=-1)\n",
    "# random_search.fit(X_train, y_train.values.ravel())\n",
    "# print(random_search.best_estimator_)"
   ]
  },
  {
   "cell_type": "markdown",
   "id": "aab272f7",
   "metadata": {},
   "source": [
    "Ouput:\n",
    "\n",
    "1st run: (no session creation time)\n",
    "LGBMClassifier(colsample_bytree=0.5, learning_rate=0.3, max_depth=3,\n",
    "               n_estimators=150, num_leaves=30, random_state=23)\n",
    "\n",
    "2nd run:\n",
    "LGBMClassifier(colsample_bytree=0.8, learning_rate=0.3, max_depth=6,\n",
    "               n_estimators=50, num_leaves=50, random_state=23)\n"
   ]
  },
  {
   "cell_type": "code",
   "execution_count": 46,
   "id": "bc725a65",
   "metadata": {},
   "outputs": [
    {
     "name": "stdout",
     "output_type": "stream",
     "text": [
      "[1]\ttraining's binary_logloss: 0.391694\tvalid_1's binary_logloss: 0.383703\n",
      "Training until validation scores don't improve for 20 rounds\n",
      "[2]\ttraining's binary_logloss: 0.390149\tvalid_1's binary_logloss: 0.382272\n",
      "[3]\ttraining's binary_logloss: 0.38874\tvalid_1's binary_logloss: 0.381401\n",
      "[4]\ttraining's binary_logloss: 0.387735\tvalid_1's binary_logloss: 0.380831\n",
      "[5]\ttraining's binary_logloss: 0.386965\tvalid_1's binary_logloss: 0.380355\n",
      "[6]\ttraining's binary_logloss: 0.386334\tvalid_1's binary_logloss: 0.380587\n",
      "[7]\ttraining's binary_logloss: 0.385866\tvalid_1's binary_logloss: 0.380192\n",
      "[8]\ttraining's binary_logloss: 0.385353\tvalid_1's binary_logloss: 0.380075\n",
      "[9]\ttraining's binary_logloss: 0.384868\tvalid_1's binary_logloss: 0.380785\n",
      "[10]\ttraining's binary_logloss: 0.384479\tvalid_1's binary_logloss: 0.380683\n",
      "[11]\ttraining's binary_logloss: 0.384165\tvalid_1's binary_logloss: 0.380861\n",
      "[12]\ttraining's binary_logloss: 0.383811\tvalid_1's binary_logloss: 0.381009\n",
      "[13]\ttraining's binary_logloss: 0.383492\tvalid_1's binary_logloss: 0.380862\n",
      "[14]\ttraining's binary_logloss: 0.383033\tvalid_1's binary_logloss: 0.380838\n",
      "[15]\ttraining's binary_logloss: 0.382787\tvalid_1's binary_logloss: 0.380675\n",
      "[16]\ttraining's binary_logloss: 0.382299\tvalid_1's binary_logloss: 0.380411\n",
      "[17]\ttraining's binary_logloss: 0.382086\tvalid_1's binary_logloss: 0.38075\n",
      "[18]\ttraining's binary_logloss: 0.381839\tvalid_1's binary_logloss: 0.380599\n",
      "[19]\ttraining's binary_logloss: 0.381521\tvalid_1's binary_logloss: 0.380585\n",
      "[20]\ttraining's binary_logloss: 0.381294\tvalid_1's binary_logloss: 0.380667\n",
      "[21]\ttraining's binary_logloss: 0.381132\tvalid_1's binary_logloss: 0.380716\n",
      "[22]\ttraining's binary_logloss: 0.380948\tvalid_1's binary_logloss: 0.38055\n",
      "[23]\ttraining's binary_logloss: 0.38076\tvalid_1's binary_logloss: 0.380698\n",
      "[24]\ttraining's binary_logloss: 0.380627\tvalid_1's binary_logloss: 0.380775\n",
      "[25]\ttraining's binary_logloss: 0.380499\tvalid_1's binary_logloss: 0.380906\n",
      "[26]\ttraining's binary_logloss: 0.38036\tvalid_1's binary_logloss: 0.380906\n",
      "[27]\ttraining's binary_logloss: 0.380213\tvalid_1's binary_logloss: 0.381008\n",
      "[28]\ttraining's binary_logloss: 0.380005\tvalid_1's binary_logloss: 0.38104\n",
      "Early stopping, best iteration is:\n",
      "[8]\ttraining's binary_logloss: 0.385353\tvalid_1's binary_logloss: 0.380075\n"
     ]
    },
    {
     "data": {
      "text/plain": [
       "LGBMClassifier(colsample_bytree=0.8, learning_rate=0.3, max_depth=6,\n",
       "               n_estimators=50, num_leaves=50, random_state=23)"
      ]
     },
     "execution_count": 46,
     "metadata": {},
     "output_type": "execute_result"
    }
   ],
   "source": [
    "# define the model\n",
    "lgbm = LGBMClassifier(colsample_bytree=0.8, learning_rate=0.3, max_depth=6,\n",
    "               n_estimators=50, num_leaves=50, random_state=23)\n",
    "lgbm.fit(X_train, y_train, early_stopping_rounds=20, eval_set=eval_set)"
   ]
  },
  {
   "cell_type": "code",
   "execution_count": 47,
   "id": "aa1350cf",
   "metadata": {},
   "outputs": [
    {
     "name": "stdout",
     "output_type": "stream",
     "text": [
      "Classification Report for Training Data\n",
      "              precision    recall  f1-score   support\n",
      "\n",
      "           N       0.87      1.00      0.93      8309\n",
      "           Y       0.00      0.00      0.00      1291\n",
      "\n",
      "    accuracy                           0.87      9600\n",
      "   macro avg       0.43      0.50      0.46      9600\n",
      "weighted avg       0.75      0.87      0.80      9600\n",
      "\n",
      "Classification Report for Test Data\n",
      "              precision    recall  f1-score   support\n",
      "\n",
      "           N       0.87      1.00      0.93      2089\n",
      "           Y       0.00      0.00      0.00       311\n",
      "\n",
      "    accuracy                           0.87      2400\n",
      "   macro avg       0.44      0.50      0.47      2400\n",
      "weighted avg       0.76      0.87      0.81      2400\n",
      "\n"
     ]
    }
   ],
   "source": [
    "print(\"Classification Report for Training Data\")\n",
    "print(classification_report(y_train, lgbm.predict(X_train), zero_division=0))\n",
    "print(\"Classification Report for Test Data\")\n",
    "print(classification_report(y_test, lgbm.predict(X_test), zero_division=0))"
   ]
  },
  {
   "cell_type": "code",
   "execution_count": 48,
   "id": "e36545d9",
   "metadata": {},
   "outputs": [
    {
     "name": "stdout",
     "output_type": "stream",
     "text": [
      "30\n"
     ]
    },
    {
     "data": {
      "image/png": "[encoded data removed]",
      "text/plain": [
       "<Figure size 576x576 with 1 Axes>"
      ]
     },
     "metadata": {},
     "output_type": "display_data"
    }
   ],
   "source": [
    "feature_importance = lgbm.feature_importances_\n",
    "# make importances relative to max importance\n",
    "feature_importance = 100.0 * (feature_importance / feature_importance.max())[:30]\n",
    "sorted_idx = np.argsort(feature_importance)[:30]\n",
    "\n",
    "pos = np.arange(sorted_idx.shape[0]) + .5\n",
    "print(pos.size)\n",
    "sorted_idx.size\n",
    "plt.figure(figsize=(8,8))\n",
    "plt.barh(pos, feature_importance[sorted_idx], align='center', color = 'plum')\n",
    "plt.yticks(pos, X.columns[sorted_idx])\n",
    "plt.xlabel('Relative Importance')\n",
    "plt.title('Variable Importance')\n",
    "plt.show()"
   ]
  },
  {
   "cell_type": "code",
   "execution_count": null,
   "id": "8df5ffd7",
   "metadata": {},
   "outputs": [],
   "source": []
  },
  {
   "cell_type": "markdown",
   "id": "f3390227",
   "metadata": {},
   "source": [
    "## <font color='orange'>Conclusions</font>\n",
    "\n",
    "- The F1 score of 0.87 for the Random Forest model indicates that this is an effective model for predicting adopted users.\n",
    "- Creation source - personal projects was an important feature in this model.  This indicates that promoting usage for personal projects could be an effective tactic in driving adoption\n",
    "- It appears that the mailing list and marketing drip variables were the most important.  It would be wise to attempt to optimize these two channels to boost adoption."
   ]
  },
  {
   "cell_type": "code",
   "execution_count": null,
   "id": "1958ce72",
   "metadata": {},
   "outputs": [],
   "source": []
  },
  {
   "cell_type": "code",
   "execution_count": null,
   "id": "c797cd69",
   "metadata": {},
   "outputs": [],
   "source": []
  },
  {
   "cell_type": "code",
   "execution_count": null,
   "id": "542a9d94",
   "metadata": {},
   "outputs": [],
   "source": []
  },
  {
   "cell_type": "code",
   "execution_count": null,
   "id": "4270979d",
   "metadata": {},
   "outputs": [],
   "source": []
  },
  {
   "cell_type": "markdown",
   "id": "d195f147",
   "metadata": {},
   "source": [
    "#### write to CSV\n",
    "from pathlib import Path  \n",
    "filepath = Path('X_train.csv')  \n",
    "filepath.parent.mkdir(parents=True, exist_ok=True)  \n",
    "X_train.to_csv(filepath)"
   ]
  },
  {
   "cell_type": "markdown",
   "id": "455b0487",
   "metadata": {},
   "source": [
    "from pathlib import Path  \n",
    "filepath = Path('X_test.csv')  \n",
    "filepath.parent.mkdir(parents=True, exist_ok=True)  \n",
    "X_test.to_csv(filepath)"
   ]
  },
  {
   "cell_type": "markdown",
   "id": "1c84d91c",
   "metadata": {},
   "source": [
    "from pathlib import Path  \n",
    "filepath = Path('y_train.csv')  \n",
    "filepath.parent.mkdir(parents=True, exist_ok=True)  \n",
    "y_train.to_csv(filepath)"
   ]
  },
  {
   "cell_type": "markdown",
   "id": "41d21d71",
   "metadata": {},
   "source": [
    "from pathlib import Path  \n",
    "filepath = Path('y_test.csv')  \n",
    "filepath.parent.mkdir(parents=True, exist_ok=True)  \n",
    "y_test.to_csv(filepath)"
   ]
  },
  {
   "cell_type": "code",
   "execution_count": null,
   "id": "21d4b7df",
   "metadata": {},
   "outputs": [],
   "source": []
  }
 ],
 "metadata": {
  "kernelspec": {
   "display_name": "Python 3 (ipykernel)",
   "language": "python",
   "name": "python3"
  },
  "language_info": {
   "codemirror_mode": {
    "name": "ipython",
    "version": 3
   },
   "file_extension": ".py",
   "mimetype": "text/x-python",
   "name": "python",
   "nbconvert_exporter": "python",
   "pygments_lexer": "ipython3",
   "version": "3.9.12"
  }
 },
 "nbformat": 4,
 "nbformat_minor": 5
}
